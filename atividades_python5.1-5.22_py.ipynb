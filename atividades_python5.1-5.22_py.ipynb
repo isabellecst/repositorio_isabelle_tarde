{
  "nbformat": 4,
  "nbformat_minor": 0,
  "metadata": {
    "colab": {
      "name": "atividades_py.ipynb",
      "provenance": [],
      "authorship_tag": "ABX9TyNPx8fOb7GBixMsrIxpZE9X",
      "include_colab_link": true
    },
    "kernelspec": {
      "name": "python3",
      "display_name": "Python 3"
    },
    "language_info": {
      "name": "python"
    }
  },
  "cells": [
    {
      "cell_type": "markdown",
      "metadata": {
        "id": "view-in-github",
        "colab_type": "text"
      },
      "source": [
        "<a href=\"https://colab.research.google.com/github/isabellecst/repositorio_isabelle_tarde/blob/main/atividades_python5.1-5.22_py.ipynb\" target=\"_parent\"><img src=\"https://colab.research.google.com/assets/colab-badge.svg\" alt=\"Open In Colab\"/></a>"
      ]
    },
    {
      "cell_type": "code",
      "execution_count": null,
      "metadata": {
        "colab": {
          "base_uri": "https://localhost:8080/"
        },
        "id": "rxrvgF4eoYkG",
        "outputId": "04f1c36b-4b89-484f-9048-cf51b7f10a7a"
      },
      "outputs": [
        {
          "output_type": "stream",
          "name": "stdout",
          "text": [
            "610\n",
            "1.4\n",
            "575\n",
            "107\n",
            "40745.7\n"
          ]
        }
      ],
      "source": [
        "5.1 #converta as expressões matemática para que possam ser calculadas\n",
        "#Exercício 5.1:\n",
        "\n",
        "print(10 + 20 * 30)\n",
        "print(42 / 30)\n",
        "print((94 + 2) * 6 - 1)\n",
        "print(((10+8)*(10-4)) - 1)\n",
        "print((((1500+((100-9)/10))*9))*3)\n"
      ]
    },
    {
      "cell_type": "code",
      "source": [
        "5.2#Exercício 5.2: Digite a seguinte expressão no interpretador:\n",
        "10 % 3 * 10 ** 2 + 1 - 10 * 4 / 2"
      ],
      "metadata": {
        "colab": {
          "base_uri": "https://localhost:8080/"
        },
        "id": "KH9vZrguo2af",
        "outputId": "686dd11d-f735-4c3c-9018-8039edbc6de0"
      },
      "execution_count": null,
      "outputs": [
        {
          "output_type": "execute_result",
          "data": {
            "text/plain": [
              "81.0"
            ]
          },
          "metadata": {},
          "execution_count": 11
        }
      ]
    },
    {
      "cell_type": "code",
      "source": [
        "#Exercício 5.3: Faça um programa que exiba seu nome na tela\n",
        "nome = input(\"digite seu nome: \")\n",
        "print(\"olá,\"+ nome)"
      ],
      "metadata": {
        "colab": {
          "base_uri": "https://localhost:8080/"
        },
        "id": "64tKf38wo2hX",
        "outputId": "58e89119-eb74-4188-f301-59a371162016"
      },
      "execution_count": null,
      "outputs": [
        {
          "output_type": "stream",
          "name": "stdout",
          "text": [
            "digite seu nome: isabelle\n",
            "olá,isabelle\n"
          ]
        }
      ]
    },
    {
      "cell_type": "code",
      "source": [
        "#Exercício 5.4: Escreva um programa que exiba o resultado de 2a × 3b, onde a vale\n",
        "#3 e b vale 5\n",
        "\n",
        "a = 3\n",
        "b = 5\n",
        "soma = (a+b)\n",
        "print(f'a soma dos dois numero é{soma}' )\n"
      ],
      "metadata": {
        "colab": {
          "base_uri": "https://localhost:8080/"
        },
        "id": "vpPp2Jbmo2mP",
        "outputId": "f72965e3-4437-4a60-b252-26ff18cf8100"
      },
      "execution_count": 3,
      "outputs": [
        {
          "output_type": "stream",
          "name": "stdout",
          "text": [
            "a soma dos dois numero é8\n"
          ]
        }
      ]
    },
    {
      "cell_type": "code",
      "source": [
        "#Exercício 5.5: Modifique o primeiro programa abaixo, de forma a calcular a soma de tres variaveis\n",
        "\n",
        "a = float(input(\"Digite o 1° numero: \"))\n",
        "b = float(input(\"Digite o 2° numero: \"))\n",
        "c = float(input(\"Digite o 3° numero: \"))\n",
        "\n",
        "print(a + b + c)\n"
      ],
      "metadata": {
        "colab": {
          "base_uri": "https://localhost:8080/"
        },
        "id": "7fiDF8Yuo2pO",
        "outputId": "1793190a-8828-4112-ae53-ddb3b6c32417"
      },
      "execution_count": null,
      "outputs": [
        {
          "output_type": "stream",
          "name": "stdout",
          "text": [
            "Digite o 1° numero: 6\n",
            "Digite o 2° numero: 9\n",
            "Digite o 3° numero: 12\n",
            "27.0\n"
          ]
        }
      ]
    },
    {
      "cell_type": "code",
      "execution_count": null,
      "metadata": {
        "colab": {
          "base_uri": "https://localhost:8080/"
        },
        "id": "ZaLmUw8JOnFH",
        "outputId": "261c063c-48cb-4f05-eef4-02b999c4906c"
      },
      "outputs": [
        {
          "output_type": "stream",
          "name": "stdout",
          "text": [
            "862.5\n",
            "5\n"
          ]
        }
      ],
      "source": [
        "#5.6 #calcule o aumento de 15% para um salario de r$ 7500\n",
        "salario = 750\n",
        "aumento = 15\n",
        "print(salario + (salario * aumento / 100))\n",
        "\n",
        "#faz a soma de duas variáveis\n",
        "a = 2 \n",
        "b = 3\n",
        "print(a + b )\n"
      ]
    },
    {
      "cell_type": "code",
      "source": [
        "#5.7 #faça um programa que converta metros para centímetros\n",
        "metros = int(input('Informe o valor em metros: '))\n",
        "print ('O valor em centimetros é :', metros * 100)"
      ],
      "metadata": {
        "id": "B2yZcI_BwCuU"
      },
      "execution_count": null,
      "outputs": []
    },
    {
      "cell_type": "code",
      "source": [
        ""
      ],
      "metadata": {
        "id": "v2ExoZFXwC30"
      },
      "execution_count": null,
      "outputs": []
    },
    {
      "cell_type": "code",
      "execution_count": null,
      "metadata": {
        "colab": {
          "base_uri": "https://localhost:8080/"
        },
        "id": "Zx3zPa8fPOzG",
        "outputId": "4f943252-32ba-4006-e7fb-5f79e45d95a4"
      },
      "outputs": [
        {
          "output_type": "stream",
          "name": "stdout",
          "text": [
            "leia o valor:1\n",
            "Qual o número que quer que se faça a tabuada: 1\n",
            "\n",
            "\n",
            "1 x 1 = 1\n",
            "1 x 2 = 2\n",
            "1 x 3 = 3\n",
            "1 x 4 = 4\n",
            "1 x 5 = 5\n",
            "1 x 6 = 6\n",
            "1 x 7 = 7\n",
            "1 x 8 = 8\n",
            "1 x 9 = 9\n",
            "1 x 10 = 10\n"
          ]
        }
      ],
      "source": [
        "#5.8 #programa em python que leia valor inteiro e mostre a tabuada de 1 a 10 do valor lido\n",
        "int(input('leia o valor:'))\n",
        "numerador = int(input(\"Qual o número que quer que se faça a tabuada: \"))\n",
        "print(\"\\n\")\n",
        "for i in range(1,11):\n",
        "    r = i*numerador\n",
        "    print(\"{} x {} = {}\".format(numerador,i,r))\n",
        "    i = i+1"
      ]
    },
    {
      "cell_type": "code",
      "source": [
        ""
      ],
      "metadata": {
        "id": "LFpI9VkjwNT0"
      },
      "execution_count": null,
      "outputs": []
    },
    {
      "cell_type": "code",
      "execution_count": null,
      "metadata": {
        "colab": {
          "base_uri": "https://localhost:8080/"
        },
        "outputId": "4c75d080-3629-4f52-a9cd-fe8a74719139",
        "id": "KXWHQuf9wRcd"
      },
      "outputs": [
        {
          "output_type": "stream",
          "name": "stdout",
          "text": [
            "digite sua primeira nota: 5\n",
            "digite sua segunda nota:  7\n",
            "A media aritmética é:  6.0\n"
          ]
        }
      ],
      "source": [
        "#5.9 faça um programa em linguagem em python que receba duas notas e calcule a média aritmética e mostre o resultado\n",
        "\n",
        "nota1 = float(input(\"digite sua primeira nota: \"))\n",
        "nota2 = float(input(\"digite sua segunda nota:  \"))\n",
        "media = (nota1+nota2) / 2\n",
        "print(\"A media aritmética é: \",media)\n"
      ]
    },
    {
      "cell_type": "code",
      "source": [
        "#Exercício 5.10: Fazer um programa que ao receber o salário atual de um\n",
        "#funcionário, calcule o valor do novo salário reajustado de acordo com as 3\n",
        "#situações: salário reajustado em 15%, salario reajustado em 10% e salário\n",
        "#reajustado em 5%.\n",
        "\n",
        "print('\\t ----Cálculo do novo salário ---- ')\n",
        "salario_atual = float(input('Informe o salario: '))\n",
        "\n",
        "print(f\"Salario reajustado em 5%:  {salario+(salario * 5/100)}\\n\")\n",
        "print(f\"Salario reajustado em 15%: {salario+(salario * 15/100)}\\n\")\n",
        "print(f\"Salario reajustado em 10%: {salario+(salario * 10/100)}\\n\")\n"
      ],
      "metadata": {
        "colab": {
          "base_uri": "https://localhost:8080/"
        },
        "id": "apXB6YIowNaz",
        "outputId": "67d987e3-2d6f-401c-ddb7-9aea6c776d40"
      },
      "execution_count": null,
      "outputs": [
        {
          "output_type": "stream",
          "name": "stdout",
          "text": [
            "\t ----Cálculo do novo salário ---- \n",
            "Informe o salario: 1200\n",
            "Salario reajustado em 5%:  787.5\n",
            "\n",
            "Salario reajustado em 15%: 862.5\n",
            "\n",
            "Salario reajustado em 10%: 825.0\n",
            "\n"
          ]
        }
      ]
    },
    {
      "cell_type": "code",
      "source": [
        "#Exercício 5.13: Escrever um programa para determinar o consumo médio de um automóvel,sendo fornecida a distância total percorrida pelo automóvel e o total de combustível gasto.\n",
        "\n",
        "distancia = float(input(\"Digite a distancia percorrida em quilometros: \"))\n",
        "combustível= float(input(\"digite o combustivel gasto: \"))\n",
        "consumo_gasto = distancia/combustível\n",
        "print(consumo_gasto12\n",
        "      )"
      ],
      "metadata": {
        "colab": {
          "base_uri": "https://localhost:8080/"
        },
        "id": "5Kjb7LQQwNfV",
        "outputId": "73cc3daa-fed7-480a-c8f2-3f7d04aee87d"
      },
      "execution_count": null,
      "outputs": [
        {
          "output_type": "stream",
          "name": "stdout",
          "text": [
            "Digite a distancia percorrida em quilometros: 100\n",
            "digite o combustivel gasto: 12\n",
            "8.333333333333334\n"
          ]
        }
      ]
    },
    {
      "cell_type": "code",
      "source": [
        "#Exercício 5.14: Escrever um programa que leia o nome de um vendedor, o seu salário fixo e o total de vendas efetuadas por ele no mês (em dinheiro). Sabendo queeste vendedor ganha 15% de comissão sobre suas vendas efetuadas, informar onome, o salário fixo e salário no final do mês."
      ],
      "metadata": {
        "id": "OlshBSEX28YZ"
      },
      "execution_count": null,
      "outputs": []
    },
    {
      "cell_type": "code",
      "source": [
        "nome = input(\"Nome do vendedor: \")\n",
        "sf = float(input(\"Digite seu salario fixo: \"))\n",
        "\n",
        "sfinal =  sf + (sf * 15/100)\n",
        "print(f\"Nome: {nome}\")\n",
        "print(f\"Salario fixo: {sf}\")\n",
        "print(f\"salario = salario fixo + 15% de comissão: {sfinal}\")"
      ],
      "metadata": {
        "colab": {
          "base_uri": "https://localhost:8080/"
        },
        "id": "O9Wga7N-28pI",
        "outputId": "e3fc6f88-d832-4316-92ef-49fb841719af"
      },
      "execution_count": null,
      "outputs": [
        {
          "output_type": "stream",
          "name": "stdout",
          "text": [
            "Nome do vendedor: carlos\n",
            "Digite seu salario fixo: 1012\n",
            "Nome: carlos\n",
            "Salario fixo: 1012.0\n",
            "Salario final = salario fixo + 15% de comissão: 1163.8\n"
          ]
        }
      ]
    },
    {
      "cell_type": "code",
      "source": [
        "#Exercício 5.15: Escrever um programa que leia o nome de um aluno e as notas das três provas que ele obteve no semestre. No final informar o nome do aluno e a sua média (aritmética)."
      ],
      "metadata": {
        "id": "wd0EiKTX3COD"
      },
      "execution_count": null,
      "outputs": []
    },
    {
      "cell_type": "code",
      "source": [
        "nome= input(\"digite seu nome: \")\n",
        "nota1 = float(input(\"digite sua primeira nota: \"))\n",
        "nota2 = float(input(\"digite sua segunda nota:  \"))\n",
        "nota3 = float(input(\"digite sua terceira nota: \"))\n",
        "media = (nota1+nota2+n3) / 3\n",
        "print(\"A media aritmética do aluno é: \",media)"
      ],
      "metadata": {
        "colab": {
          "base_uri": "https://localhost:8080/"
        },
        "id": "ePgoRJdB3CTC",
        "outputId": "542c2450-7d9a-4265-cb22-1b946937e388"
      },
      "execution_count": null,
      "outputs": [
        {
          "output_type": "stream",
          "name": "stdout",
          "text": [
            "digite seu nome: carlos\n",
            "digite sua primeira nota: 5\n",
            "digite sua segunda nota:  7\n",
            "digite sua terceira nota: 8\n",
            "A media aritmética do aluno é:  6.0\n"
          ]
        }
      ]
    },
    {
      "cell_type": "code",
      "source": [
        "#Exercício 5.16: Ler dois valores para as variáveis A e B, e efetuar as trocas dos valores de forma que a variável A passe a possuir o valor da variável B e a variável B passe a possuir o valor da variável A. Apresentar os valores."
      ],
      "metadata": {
        "id": "o6d5i37JANLE"
      },
      "execution_count": null,
      "outputs": []
    },
    {
      "cell_type": "code",
      "source": [
        "a = float(input(\"informe o numero: \"))\n",
        "b = float(input(\"informe outro numero: \"))\n",
        "\n",
        "print(f\"o valor atual de A é: {a} \")\n",
        "print(f\"o valor atua de B é:{b} \")\n",
        "\n",
        "auxiliar = a\n",
        "a = b\n",
        "b =auxiliar\n",
        "\n",
        "print(f\"o valor de troca de A é: {a} \")\n",
        "print(f\"o valor de troca de B é: {b} \")\n",
        "\n",
        "\n"
      ],
      "metadata": {
        "colab": {
          "base_uri": "https://localhost:8080/"
        },
        "id": "EtDjPgraANN0",
        "outputId": "678bd637-9855-4e18-f0db-d57532035e7c"
      },
      "execution_count": null,
      "outputs": [
        {
          "output_type": "stream",
          "name": "stdout",
          "text": [
            "informe o numero: 5\n",
            "informe outro numero: 6\n",
            "o valor atual de A é: 5.0 \n",
            "o valor atua de B é:6.0 \n",
            "o valor de troca de A é: 6.0 \n",
            "o valor de troca de B é: 5.0 \n"
          ]
        }
      ]
    },
    {
      "cell_type": "code",
      "source": [
        "#5.17\n",
        "t = int(input('Informe a temperatura em graus celsius: '))\n",
        "\n",
        "f = ((9*c)+160)/5\n",
        "\n",
        "print(f\"A temperatura em graus celcius é: {t}\")\n",
        "print(f\"A conversao para em fahrenheit é {f}\")"
      ],
      "metadata": {
        "colab": {
          "base_uri": "https://localhost:8080/"
        },
        "id": "s5LK4BniPBkI",
        "outputId": "7332297c-244f-4630-b752-eb1e369594ad"
      },
      "execution_count": null,
      "outputs": [
        {
          "output_type": "stream",
          "name": "stdout",
          "text": [
            "Informe a temperatura em graus celsius: 5\n",
            "A temperatura em graus celcius é: 5\n",
            "A conversao para em fahrenheit é 53.6\n"
          ]
        }
      ]
    },
    {
      "cell_type": "code",
      "source": [
        "#Exercício 5.18: Elaborar um programa que efetue a apresentação do valor da conversão em real (R$) de um valor lido em dólar (US$). O algoritmo deverá solicitar o valor da cotação do dólar e a quantidade de dólares disponíveis com o usuário."
      ],
      "metadata": {
        "id": "sYIhP-V9SP60"
      },
      "execution_count": null,
      "outputs": []
    },
    {
      "cell_type": "code",
      "source": [
        "reais = float(input(\"quantidade de reais: \"))\n",
        "contdo = float(input(\"quantidade de dolar: \"))\n",
        "conv = reais/contdo\n",
        "print(f\"R$ {reais} reais sao ${contdo}\")"
      ],
      "metadata": {
        "id": "suiCgnLjANP7",
        "colab": {
          "base_uri": "https://localhost:8080/"
        },
        "outputId": "3fc1412e-871b-4221-f553-6860cbce3e4c"
      },
      "execution_count": null,
      "outputs": [
        {
          "output_type": "stream",
          "name": "stdout",
          "text": [
            "quantidade de reais: 500\n",
            "quantidade de dolar: 200\n",
            "R$ 500.0 reais sao $200.0\n"
          ]
        }
      ]
    },
    {
      "cell_type": "code",
      "source": [
        "#Exercício 5.19: Faça um programa que receba um valor que foi depositado e exiba o valor com rendimento após um mês. Considere fixo o juro da poupança em 0,70% a.\n",
        "\n",
        "\n",
        "db = float(input(\"Insira o valor a ser depositado: \"))\n",
        "print(\"o rendimento em um mes é 0.70%\")\n",
        "\n",
        "rendimento =  db + (db*70/100)\n",
        "\n",
        "print(f\"O valor, com rendimento de 0,70%, ao ser retirado após um mês será de {rendimento}R$\")"
      ],
      "metadata": {
        "id": "zvQLxpYkPBqS"
      },
      "execution_count": null,
      "outputs": []
    },
    {
      "cell_type": "code",
      "source": [
        "#Exercício 5.20: A Loja Mamão com Açúcar está vendendo seus produtos em 5 (cinco) prestações sem juros. Faça um Programa que receba um valor de uma compra e mostre o valor das prestações.\n",
        "\n",
        "print(\"------------------mamão com açucar---------------------\")\n",
        "\n",
        "v =float(input(\"informe o valor da compra: \"))\n",
        "prestações= v/5\n",
        "print(f\"o valor da compra é {v} e as prestações{prestações}\")"
      ],
      "metadata": {
        "colab": {
          "base_uri": "https://localhost:8080/"
        },
        "id": "fOb8hccxPBtI",
        "outputId": "5a50224c-07c4-431f-e21a-1be9f3c21639"
      },
      "execution_count": null,
      "outputs": [
        {
          "output_type": "stream",
          "name": "stdout",
          "text": [
            "------------------mamão com açucar---------------------\n",
            "informe o valor da compra: 5\n",
            "o valor da compra é 5.0 e as prestações1.0\n"
          ]
        }
      ]
    },
    {
      "cell_type": "code",
      "source": [
        "#Exercício 5.21: Faça um programa que receba o preço de custo de um produto e mostre o valor de venda. Sabe-se que o preço de custo receberá um acréscimo de acordo com um percentual informado pelo usuário.\n",
        "\n",
        "nome =input(\"informe o nomee do produto: \")\n",
        "a = float(input(\"informe o valor: \"))\n",
        "b = float(input(\"informe o percentual para a venda:\" ))\n",
        "p = a + (a*b/100)\n",
        "print(f\"O valor da venda é {a}, e a porcentagem do acrecimo {b} \")"
      ],
      "metadata": {
        "colab": {
          "base_uri": "https://localhost:8080/"
        },
        "id": "aiSHvSAiZTC3",
        "outputId": "0bd61a71-44b4-457d-b965-e815c5307b41"
      },
      "execution_count": null,
      "outputs": [
        {
          "output_type": "stream",
          "name": "stdout",
          "text": [
            "informe o nomee do produto: pera\n",
            "informe o valor: 5\n",
            "informe o percentual para a venda:2\n",
            "O valor da venda é 5.0, e a porcentagem do acrecimo 2.0 \n"
          ]
        }
      ]
    },
    {
      "cell_type": "code",
      "source": [
        "5.22\n",
        "custo_fabrica = float(input(\"digite o custo de fabrica do carro: \"))\n",
        "custo_imposto = custo_fabrica +(custo_fabrica*45/100)\n",
        "custo_consumidor = custo_imposto+(custo_imposto*28/100)\n",
        "print(f\"o custo de fabrica de um carro é {custo_fabrica}\")\n"
      ],
      "metadata": {
        "id": "L5HVqY_pPBv5"
      },
      "execution_count": null,
      "outputs": []
    },
    {
      "cell_type": "code",
      "source": [
        ""
      ],
      "metadata": {
        "id": "kXmq902NPByx"
      },
      "execution_count": null,
      "outputs": []
    }
  ]
}